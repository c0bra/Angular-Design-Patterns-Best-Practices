{
  "cells": [
    {
      "id": "f11f462f-f113-5e6d-9114-eef13db9d21a",
      "cell_type": "markdown",
      "metadata": {
        "id": "f11f462f-f113-5e6d-9114-eef13db9d21a"
      },
      "source": [
        "# Generating SQL for Postgres using OpenAI via Vanna.AI (Recommended), Vanna Hosted Vector DB (Recommended)\n",
        "This notebook runs through the process of using the `vanna` Python package to generate SQL using AI (RAG + LLMs) including connecting to a database and training. If you're not ready to train on your own database, you can still try it using a sample [SQLite database](app.md)."
      ]
    },
    {
      "id": "09d8642a-86ae-548a-9d57-25a1e7c1d144",
      "cell_type": "markdown",
      "metadata": {
        "id": "09d8642a-86ae-548a-9d57-25a1e7c1d144"
      },
      "source": [
        "\n",
        "<h3 class=\"mb-5 text-lg font-medium text-gray-900 dark:text-white\">Which LLM do you want to use?</h3>\n",
        "<ul class=\"grid w-full gap-6 md:grid-cols-2\">\n",
        "    \n",
        "  <li>\n",
        "    <span class=\"inline-flex w-full cursor-pointer items-center justify-between rounded-lg border bg-white p-5 border-blue-600 text-blue-600 dark:bg-gray-800 dark:text-blue-500\">\n",
        "      <div class=\"block\">\n",
        "        <div class=\"w-full text-lg font-semibold\"><span class=\"hidden\">[Selected]</span> OpenAI via Vanna.AI (Recommended)</div>\n",
        "        <small class=\"w-full\">Use Vanna.AI for free to generate your queries</small>\n",
        "      </div>\n",
        "    </span>\n",
        "  </li>\n",
        "  \n",
        "  <li>\n",
        "    <a href=\"../postgres-openai-standard-vannadb/\" class=\"inline-flex w-full cursor-pointer items-center justify-between rounded-lg border border-gray-200 bg-white p-5 text-gray-500 hover:bg-gray-100 hover:text-gray-600 peer-checked:border-blue-600 peer-checked:text-blue-600 dark:border-gray-700 dark:bg-gray-800 dark:text-gray-400 dark:hover:bg-gray-700 dark:hover:text-gray-300 dark:peer-checked:text-blue-500\">\n",
        "      <div class=\"block\">\n",
        "        <div class=\"w-full text-lg font-semibold\">OpenAI</div>\n",
        "        <small class=\"w-full\">Use OpenAI with your own API key</small>\n",
        "      </div>\n",
        "    </a>\n",
        "  </li>\n",
        "    \n",
        "  <li>\n",
        "    <a href=\"../postgres-openai-azure-vannadb/\" class=\"inline-flex w-full cursor-pointer items-center justify-between rounded-lg border border-gray-200 bg-white p-5 text-gray-500 hover:bg-gray-100 hover:text-gray-600 peer-checked:border-blue-600 peer-checked:text-blue-600 dark:border-gray-700 dark:bg-gray-800 dark:text-gray-400 dark:hover:bg-gray-700 dark:hover:text-gray-300 dark:peer-checked:text-blue-500\">\n",
        "      <div class=\"block\">\n",
        "        <div class=\"w-full text-lg font-semibold\">Azure OpenAI</div>\n",
        "        <small class=\"w-full\">If you have OpenAI models deployed on Azure</small>\n",
        "      </div>\n",
        "    </a>\n",
        "  </li>\n",
        "    \n",
        "  <li>\n",
        "    <a href=\"../postgres-anthropic-vannadb/\" class=\"inline-flex w-full cursor-pointer items-center justify-between rounded-lg border border-gray-200 bg-white p-5 text-gray-500 hover:bg-gray-100 hover:text-gray-600 peer-checked:border-blue-600 peer-checked:text-blue-600 dark:border-gray-700 dark:bg-gray-800 dark:text-gray-400 dark:hover:bg-gray-700 dark:hover:text-gray-300 dark:peer-checked:text-blue-500\">\n",
        "      <div class=\"block\">\n",
        "        <div class=\"w-full text-lg font-semibold\">Anthropic</div>\n",
        "        <small class=\"w-full\">Use Anthropics Claude with your Anthropic API Key</small>\n",
        "      </div>\n",
        "    </a>\n",
        "  </li>\n",
        "    \n",
        "  <li>\n",
        "    <a href=\"../postgres-ollama-vannadb/\" class=\"inline-flex w-full cursor-pointer items-center justify-between rounded-lg border border-gray-200 bg-white p-5 text-gray-500 hover:bg-gray-100 hover:text-gray-600 peer-checked:border-blue-600 peer-checked:text-blue-600 dark:border-gray-700 dark:bg-gray-800 dark:text-gray-400 dark:hover:bg-gray-700 dark:hover:text-gray-300 dark:peer-checked:text-blue-500\">\n",
        "      <div class=\"block\">\n",
        "        <div class=\"w-full text-lg font-semibold\">Ollama</div>\n",
        "        <small class=\"w-full\">Use Ollama locally for free. Requires additional setup.</small>\n",
        "      </div>\n",
        "    </a>\n",
        "  </li>\n",
        "    \n",
        "  <li>\n",
        "    <a href=\"../postgres-gemini-vannadb/\" class=\"inline-flex w-full cursor-pointer items-center justify-between rounded-lg border border-gray-200 bg-white p-5 text-gray-500 hover:bg-gray-100 hover:text-gray-600 peer-checked:border-blue-600 peer-checked:text-blue-600 dark:border-gray-700 dark:bg-gray-800 dark:text-gray-400 dark:hover:bg-gray-700 dark:hover:text-gray-300 dark:peer-checked:text-blue-500\">\n",
        "      <div class=\"block\">\n",
        "        <div class=\"w-full text-lg font-semibold\">Google Gemini</div>\n",
        "        <small class=\"w-full\">Use Google Gemini with your Gemini or Vertex API Key</small>\n",
        "      </div>\n",
        "    </a>\n",
        "  </li>\n",
        "    \n",
        "  <li>\n",
        "    <a href=\"../postgres-mistral-vannadb/\" class=\"inline-flex w-full cursor-pointer items-center justify-between rounded-lg border border-gray-200 bg-white p-5 text-gray-500 hover:bg-gray-100 hover:text-gray-600 peer-checked:border-blue-600 peer-checked:text-blue-600 dark:border-gray-700 dark:bg-gray-800 dark:text-gray-400 dark:hover:bg-gray-700 dark:hover:text-gray-300 dark:peer-checked:text-blue-500\">\n",
        "      <div class=\"block\">\n",
        "        <div class=\"w-full text-lg font-semibold\">Mistral via Mistral API</div>\n",
        "        <small class=\"w-full\">If you have a Mistral API key</small>\n",
        "      </div>\n",
        "    </a>\n",
        "  </li>\n",
        "    \n",
        "  <li>\n",
        "    <a href=\"../postgres-other-llm-vannadb/\" class=\"inline-flex w-full cursor-pointer items-center justify-between rounded-lg border border-gray-200 bg-white p-5 text-gray-500 hover:bg-gray-100 hover:text-gray-600 peer-checked:border-blue-600 peer-checked:text-blue-600 dark:border-gray-700 dark:bg-gray-800 dark:text-gray-400 dark:hover:bg-gray-700 dark:hover:text-gray-300 dark:peer-checked:text-blue-500\">\n",
        "      <div class=\"block\">\n",
        "        <div class=\"w-full text-lg font-semibold\">Other LLM</div>\n",
        "        <small class=\"w-full\">If you have a different LLM model</small>\n",
        "      </div>\n",
        "    </a>\n",
        "  </li>\n",
        "    \n",
        "</ul>\n",
        "    "
      ]
    },
    {
      "id": "79121183-0f87-5578-914b-d46ba8da261e",
      "cell_type": "markdown",
      "metadata": {
        "id": "79121183-0f87-5578-914b-d46ba8da261e"
      },
      "source": [
        "\n",
        "<h3 class=\"mb-5 text-lg font-medium text-gray-900 dark:text-white\">Where do you want to store the 'training' data?</h3>\n",
        "<ul class=\"grid w-full gap-6 md:grid-cols-2\">\n",
        "    \n",
        "  <li>\n",
        "    <span class=\"inline-flex w-full cursor-pointer items-center justify-between rounded-lg border bg-white p-5 border-blue-600 text-blue-600 dark:bg-gray-800 dark:text-blue-500\">\n",
        "      <div class=\"block\">\n",
        "        <div class=\"w-full text-lg font-semibold\"><span class=\"hidden\">[Selected]</span> Vanna Hosted Vector DB (Recommended)</div>\n",
        "        <small class=\"w-full\">Use Vanna.AIs hosted vector database (pgvector) for free. This is usable across machines with no additional setup.</small>\n",
        "      </div>\n",
        "    </span>\n",
        "  </li>\n",
        "  \n",
        "  <li>\n",
        "    <a href=\"../postgres-openai-standard-chromadb/\" class=\"inline-flex w-full cursor-pointer items-center justify-between rounded-lg border border-gray-200 bg-white p-5 text-gray-500 hover:bg-gray-100 hover:text-gray-600 peer-checked:border-blue-600 peer-checked:text-blue-600 dark:border-gray-700 dark:bg-gray-800 dark:text-gray-400 dark:hover:bg-gray-700 dark:hover:text-gray-300 dark:peer-checked:text-blue-500\">\n",
        "      <div class=\"block\">\n",
        "        <div class=\"w-full text-lg font-semibold\">ChromaDB</div>\n",
        "        <small class=\"w-full\">Use ChromaDBs open-source vector database for free locally. No additional setup is necessary -- all database files will be created and stored locally.</small>\n",
        "      </div>\n",
        "    </a>\n",
        "  </li>\n",
        "    \n",
        "  <li>\n",
        "    <a href=\"../postgres-openai-standard-qdrant/\" class=\"inline-flex w-full cursor-pointer items-center justify-between rounded-lg border border-gray-200 bg-white p-5 text-gray-500 hover:bg-gray-100 hover:text-gray-600 peer-checked:border-blue-600 peer-checked:text-blue-600 dark:border-gray-700 dark:bg-gray-800 dark:text-gray-400 dark:hover:bg-gray-700 dark:hover:text-gray-300 dark:peer-checked:text-blue-500\">\n",
        "      <div class=\"block\">\n",
        "        <div class=\"w-full text-lg font-semibold\">Qdrant</div>\n",
        "        <small class=\"w-full\">Use Qdrants open-source vector database</small>\n",
        "      </div>\n",
        "    </a>\n",
        "  </li>\n",
        "    \n",
        "  <li>\n",
        "    <a href=\"../postgres-openai-standard-marqo/\" class=\"inline-flex w-full cursor-pointer items-center justify-between rounded-lg border border-gray-200 bg-white p-5 text-gray-500 hover:bg-gray-100 hover:text-gray-600 peer-checked:border-blue-600 peer-checked:text-blue-600 dark:border-gray-700 dark:bg-gray-800 dark:text-gray-400 dark:hover:bg-gray-700 dark:hover:text-gray-300 dark:peer-checked:text-blue-500\">\n",
        "      <div class=\"block\">\n",
        "        <div class=\"w-full text-lg font-semibold\">Marqo</div>\n",
        "        <small class=\"w-full\">Use Marqo locally for free. Requires additional setup. Or use their hosted option.</small>\n",
        "      </div>\n",
        "    </a>\n",
        "  </li>\n",
        "    \n",
        "  <li>\n",
        "    <a href=\"../postgres-openai-standard-other-vectordb/\" class=\"inline-flex w-full cursor-pointer items-center justify-between rounded-lg border border-gray-200 bg-white p-5 text-gray-500 hover:bg-gray-100 hover:text-gray-600 peer-checked:border-blue-600 peer-checked:text-blue-600 dark:border-gray-700 dark:bg-gray-800 dark:text-gray-400 dark:hover:bg-gray-700 dark:hover:text-gray-300 dark:peer-checked:text-blue-500\">\n",
        "      <div class=\"block\">\n",
        "        <div class=\"w-full text-lg font-semibold\">Other VectorDB</div>\n",
        "        <small class=\"w-full\">Use any other vector database. Requires additional setup.</small>\n",
        "      </div>\n",
        "    </a>\n",
        "  </li>\n",
        "    \n",
        "</ul>\n",
        "    "
      ]
    },
    {
      "id": "ee059407-58ac-50fa-843a-7b876328df13",
      "cell_type": "markdown",
      "metadata": {
        "id": "ee059407-58ac-50fa-843a-7b876328df13"
      },
      "source": [
        "## Setup"
      ]
    },
    {
      "id": "bdef8f4c-bd17-56af-8840-6452768ea0f3",
      "cell_type": "code",
      "execution_count": 1,
      "metadata": {
        "id": "bdef8f4c-bd17-56af-8840-6452768ea0f3",
        "outputId": "1c384e2f-53c9-4248-a651-be9ca84dae1a",
        "colab": {
          "base_uri": "https://localhost:8080/"
        }
      },
      "outputs": [
        {
          "output_type": "stream",
          "name": "stdout",
          "text": [
            "Collecting vanna[postgres]\n",
            "  Downloading vanna-0.7.5-py3-none-any.whl.metadata (13 kB)\n",
            "Requirement already satisfied: requests in /usr/local/lib/python3.10/dist-packages (from vanna[postgres]) (2.32.3)\n",
            "Requirement already satisfied: tabulate in /usr/local/lib/python3.10/dist-packages (from vanna[postgres]) (0.9.0)\n",
            "Requirement already satisfied: plotly in /usr/local/lib/python3.10/dist-packages (from vanna[postgres]) (5.24.1)\n",
            "Requirement already satisfied: pandas in /usr/local/lib/python3.10/dist-packages (from vanna[postgres]) (2.2.2)\n",
            "Requirement already satisfied: sqlparse in /usr/local/lib/python3.10/dist-packages (from vanna[postgres]) (0.5.1)\n",
            "Collecting kaleido (from vanna[postgres])\n",
            "  Downloading kaleido-0.2.1-py2.py3-none-manylinux1_x86_64.whl.metadata (15 kB)\n",
            "Requirement already satisfied: flask in /usr/local/lib/python3.10/dist-packages (from vanna[postgres]) (2.2.5)\n",
            "Collecting flask-sock (from vanna[postgres])\n",
            "  Downloading flask_sock-0.7.0-py3-none-any.whl.metadata (1.6 kB)\n",
            "Collecting flasgger (from vanna[postgres])\n",
            "  Downloading flasgger-0.9.7.1.tar.gz (4.0 MB)\n",
            "\u001b[2K     \u001b[90m━━━━━━━━━━━━━━━━━━━━━━━━━━━━━━━━━━━━━━━━\u001b[0m \u001b[32m4.0/4.0 MB\u001b[0m \u001b[31m18.5 MB/s\u001b[0m eta \u001b[36m0:00:00\u001b[0m\n",
            "\u001b[?25h  Preparing metadata (setup.py) ... \u001b[?25l\u001b[?25hdone\n",
            "Requirement already satisfied: sqlalchemy in /usr/local/lib/python3.10/dist-packages (from vanna[postgres]) (2.0.36)\n",
            "Collecting psycopg2-binary (from vanna[postgres])\n",
            "  Downloading psycopg2_binary-2.9.10-cp310-cp310-manylinux_2_17_x86_64.manylinux2014_x86_64.whl.metadata (4.9 kB)\n",
            "Requirement already satisfied: db-dtypes in /usr/local/lib/python3.10/dist-packages (from vanna[postgres]) (1.3.0)\n",
            "Requirement already satisfied: packaging>=17.0 in /usr/local/lib/python3.10/dist-packages (from db-dtypes->vanna[postgres]) (24.1)\n",
            "Requirement already satisfied: pyarrow>=3.0.0 in /usr/local/lib/python3.10/dist-packages (from db-dtypes->vanna[postgres]) (16.1.0)\n",
            "Requirement already satisfied: numpy>=1.16.6 in /usr/local/lib/python3.10/dist-packages (from db-dtypes->vanna[postgres]) (1.26.4)\n",
            "Requirement already satisfied: python-dateutil>=2.8.2 in /usr/local/lib/python3.10/dist-packages (from pandas->vanna[postgres]) (2.8.2)\n",
            "Requirement already satisfied: pytz>=2020.1 in /usr/local/lib/python3.10/dist-packages (from pandas->vanna[postgres]) (2024.2)\n",
            "Requirement already satisfied: tzdata>=2022.7 in /usr/local/lib/python3.10/dist-packages (from pandas->vanna[postgres]) (2024.2)\n",
            "Requirement already satisfied: PyYAML>=3.0 in /usr/local/lib/python3.10/dist-packages (from flasgger->vanna[postgres]) (6.0.2)\n",
            "Requirement already satisfied: jsonschema>=3.0.1 in /usr/local/lib/python3.10/dist-packages (from flasgger->vanna[postgres]) (4.23.0)\n",
            "Requirement already satisfied: mistune in /usr/local/lib/python3.10/dist-packages (from flasgger->vanna[postgres]) (0.8.4)\n",
            "Requirement already satisfied: six>=1.10.0 in /usr/local/lib/python3.10/dist-packages (from flasgger->vanna[postgres]) (1.16.0)\n",
            "Requirement already satisfied: Werkzeug>=2.2.2 in /usr/local/lib/python3.10/dist-packages (from flask->vanna[postgres]) (3.0.4)\n",
            "Requirement already satisfied: Jinja2>=3.0 in /usr/local/lib/python3.10/dist-packages (from flask->vanna[postgres]) (3.1.4)\n",
            "Requirement already satisfied: itsdangerous>=2.0 in /usr/local/lib/python3.10/dist-packages (from flask->vanna[postgres]) (2.2.0)\n",
            "Requirement already satisfied: click>=8.0 in /usr/local/lib/python3.10/dist-packages (from flask->vanna[postgres]) (8.1.7)\n",
            "Collecting simple-websocket>=0.5.1 (from flask-sock->vanna[postgres])\n",
            "  Downloading simple_websocket-1.1.0-py3-none-any.whl.metadata (1.5 kB)\n",
            "Requirement already satisfied: tenacity>=6.2.0 in /usr/local/lib/python3.10/dist-packages (from plotly->vanna[postgres]) (9.0.0)\n",
            "Requirement already satisfied: charset-normalizer<4,>=2 in /usr/local/lib/python3.10/dist-packages (from requests->vanna[postgres]) (3.4.0)\n",
            "Requirement already satisfied: idna<4,>=2.5 in /usr/local/lib/python3.10/dist-packages (from requests->vanna[postgres]) (3.10)\n",
            "Requirement already satisfied: urllib3<3,>=1.21.1 in /usr/local/lib/python3.10/dist-packages (from requests->vanna[postgres]) (2.2.3)\n",
            "Requirement already satisfied: certifi>=2017.4.17 in /usr/local/lib/python3.10/dist-packages (from requests->vanna[postgres]) (2024.8.30)\n",
            "Requirement already satisfied: typing-extensions>=4.6.0 in /usr/local/lib/python3.10/dist-packages (from sqlalchemy->vanna[postgres]) (4.12.2)\n",
            "Requirement already satisfied: greenlet!=0.4.17 in /usr/local/lib/python3.10/dist-packages (from sqlalchemy->vanna[postgres]) (3.1.1)\n",
            "Requirement already satisfied: MarkupSafe>=2.0 in /usr/local/lib/python3.10/dist-packages (from Jinja2>=3.0->flask->vanna[postgres]) (3.0.2)\n",
            "Requirement already satisfied: attrs>=22.2.0 in /usr/local/lib/python3.10/dist-packages (from jsonschema>=3.0.1->flasgger->vanna[postgres]) (24.2.0)\n",
            "Requirement already satisfied: jsonschema-specifications>=2023.03.6 in /usr/local/lib/python3.10/dist-packages (from jsonschema>=3.0.1->flasgger->vanna[postgres]) (2024.10.1)\n",
            "Requirement already satisfied: referencing>=0.28.4 in /usr/local/lib/python3.10/dist-packages (from jsonschema>=3.0.1->flasgger->vanna[postgres]) (0.35.1)\n",
            "Requirement already satisfied: rpds-py>=0.7.1 in /usr/local/lib/python3.10/dist-packages (from jsonschema>=3.0.1->flasgger->vanna[postgres]) (0.20.0)\n",
            "Collecting wsproto (from simple-websocket>=0.5.1->flask-sock->vanna[postgres])\n",
            "  Downloading wsproto-1.2.0-py3-none-any.whl.metadata (5.6 kB)\n",
            "Collecting h11<1,>=0.9.0 (from wsproto->simple-websocket>=0.5.1->flask-sock->vanna[postgres])\n",
            "  Downloading h11-0.14.0-py3-none-any.whl.metadata (8.2 kB)\n",
            "Downloading flask_sock-0.7.0-py3-none-any.whl (4.0 kB)\n",
            "Downloading kaleido-0.2.1-py2.py3-none-manylinux1_x86_64.whl (79.9 MB)\n",
            "\u001b[2K   \u001b[90m━━━━━━━━━━━━━━━━━━━━━━━━━━━━━━━━━━━━━━━━\u001b[0m \u001b[32m79.9/79.9 MB\u001b[0m \u001b[31m12.0 MB/s\u001b[0m eta \u001b[36m0:00:00\u001b[0m\n",
            "\u001b[?25hDownloading psycopg2_binary-2.9.10-cp310-cp310-manylinux_2_17_x86_64.manylinux2014_x86_64.whl (3.0 MB)\n",
            "\u001b[2K   \u001b[90m━━━━━━━━━━━━━━━━━━━━━━━━━━━━━━━━━━━━━━━━\u001b[0m \u001b[32m3.0/3.0 MB\u001b[0m \u001b[31m38.6 MB/s\u001b[0m eta \u001b[36m0:00:00\u001b[0m\n",
            "\u001b[?25hDownloading vanna-0.7.5-py3-none-any.whl (202 kB)\n",
            "\u001b[2K   \u001b[90m━━━━━━━━━━━━━━━━━━━━━━━━━━━━━━━━━━━━━━━━\u001b[0m \u001b[32m202.4/202.4 kB\u001b[0m \u001b[31m12.1 MB/s\u001b[0m eta \u001b[36m0:00:00\u001b[0m\n",
            "\u001b[?25hDownloading simple_websocket-1.1.0-py3-none-any.whl (13 kB)\n",
            "Downloading wsproto-1.2.0-py3-none-any.whl (24 kB)\n",
            "Downloading h11-0.14.0-py3-none-any.whl (58 kB)\n",
            "\u001b[2K   \u001b[90m━━━━━━━━━━━━━━━━━━━━━━━━━━━━━━━━━━━━━━━━\u001b[0m \u001b[32m58.3/58.3 kB\u001b[0m \u001b[31m4.4 MB/s\u001b[0m eta \u001b[36m0:00:00\u001b[0m\n",
            "\u001b[?25hBuilding wheels for collected packages: flasgger\n",
            "  Building wheel for flasgger (setup.py) ... \u001b[?25l\u001b[?25hdone\n",
            "  Created wheel for flasgger: filename=flasgger-0.9.7.1-py2.py3-none-any.whl size=3865184 sha256=bbeff6ecbaeee382c0c71512b4a7d400bf1401ce29de038ef7c0cb569619cd47\n",
            "  Stored in directory: /root/.cache/pip/wheels/92/c0/ec/a7935834b3205c0c0acbd4ba52b9c8215835984fe168374262\n",
            "Successfully built flasgger\n",
            "Installing collected packages: kaleido, psycopg2-binary, h11, wsproto, simple-websocket, flask-sock, flasgger, vanna\n",
            "Successfully installed flasgger-0.9.7.1 flask-sock-0.7.0 h11-0.14.0 kaleido-0.2.1 psycopg2-binary-2.9.10 simple-websocket-1.1.0 vanna-0.7.5 wsproto-1.2.0\n"
          ]
        }
      ],
      "source": [
        "%pip install 'vanna[postgres]'"
      ]
    },
    {
      "id": "6160c274-caf4-537e-9a02-f6a1d7022a2c",
      "cell_type": "code",
      "execution_count": 2,
      "metadata": {
        "id": "6160c274-caf4-537e-9a02-f6a1d7022a2c"
      },
      "outputs": [],
      "source": [
        "import vanna\n",
        "from vanna.remote import VannaDefault"
      ]
    },
    {
      "id": "7cd78528-b0b0-5428-901c-6b5dc2158ef9",
      "cell_type": "code",
      "execution_count": 4,
      "metadata": {
        "id": "7cd78528-b0b0-5428-901c-6b5dc2158ef9"
      },
      "outputs": [],
      "source": [
        "api_key = '761f8401c1654141a73864bcae355207'\n",
        "\n",
        "vanna_model_name = 'bhann'\n",
        "vn = VannaDefault(model=vanna_model_name, api_key=api_key)\n"
      ]
    },
    {
      "id": "b5ccaea6-72f3-5450-a9e4-89734b1f4054",
      "cell_type": "markdown",
      "metadata": {
        "id": "b5ccaea6-72f3-5450-a9e4-89734b1f4054"
      },
      "source": [
        "\n",
        "<h3 class=\"mb-5 text-lg font-medium text-gray-900 dark:text-white\">Which database do you want to query?</h3>\n",
        "<ul class=\"grid w-full gap-6 md:grid-cols-2\">\n",
        "    \n",
        "  <li>\n",
        "    <span class=\"inline-flex w-full cursor-pointer items-center justify-between rounded-lg border bg-white p-5 border-blue-600 text-blue-600 dark:bg-gray-800 dark:text-blue-500\">\n",
        "      <div class=\"block\">\n",
        "        <div class=\"w-full text-lg font-semibold\"><span class=\"hidden\">[Selected]</span> Postgres</div>\n",
        "        <small class=\"w-full\"></small>\n",
        "      </div>\n",
        "    </span>\n",
        "  </li>\n",
        "  \n",
        "  <li>\n",
        "    <a href=\"../mssql-openai-vanna-vannadb/\" class=\"inline-flex w-full cursor-pointer items-center justify-between rounded-lg border border-gray-200 bg-white p-5 text-gray-500 hover:bg-gray-100 hover:text-gray-600 peer-checked:border-blue-600 peer-checked:text-blue-600 dark:border-gray-700 dark:bg-gray-800 dark:text-gray-400 dark:hover:bg-gray-700 dark:hover:text-gray-300 dark:peer-checked:text-blue-500\">\n",
        "      <div class=\"block\">\n",
        "        <div class=\"w-full text-lg font-semibold\">Microsoft SQL Server</div>\n",
        "        <small class=\"w-full\"></small>\n",
        "      </div>\n",
        "    </a>\n",
        "  </li>\n",
        "    \n",
        "  <li>\n",
        "    <a href=\"../mysql-openai-vanna-vannadb/\" class=\"inline-flex w-full cursor-pointer items-center justify-between rounded-lg border border-gray-200 bg-white p-5 text-gray-500 hover:bg-gray-100 hover:text-gray-600 peer-checked:border-blue-600 peer-checked:text-blue-600 dark:border-gray-700 dark:bg-gray-800 dark:text-gray-400 dark:hover:bg-gray-700 dark:hover:text-gray-300 dark:peer-checked:text-blue-500\">\n",
        "      <div class=\"block\">\n",
        "        <div class=\"w-full text-lg font-semibold\">MySQL</div>\n",
        "        <small class=\"w-full\"></small>\n",
        "      </div>\n",
        "    </a>\n",
        "  </li>\n",
        "    \n",
        "  <li>\n",
        "    <a href=\"../duckdb-openai-vanna-vannadb/\" class=\"inline-flex w-full cursor-pointer items-center justify-between rounded-lg border border-gray-200 bg-white p-5 text-gray-500 hover:bg-gray-100 hover:text-gray-600 peer-checked:border-blue-600 peer-checked:text-blue-600 dark:border-gray-700 dark:bg-gray-800 dark:text-gray-400 dark:hover:bg-gray-700 dark:hover:text-gray-300 dark:peer-checked:text-blue-500\">\n",
        "      <div class=\"block\">\n",
        "        <div class=\"w-full text-lg font-semibold\">DuckDB</div>\n",
        "        <small class=\"w-full\"></small>\n",
        "      </div>\n",
        "    </a>\n",
        "  </li>\n",
        "    \n",
        "  <li>\n",
        "    <a href=\"../snowflake-openai-vanna-vannadb/\" class=\"inline-flex w-full cursor-pointer items-center justify-between rounded-lg border border-gray-200 bg-white p-5 text-gray-500 hover:bg-gray-100 hover:text-gray-600 peer-checked:border-blue-600 peer-checked:text-blue-600 dark:border-gray-700 dark:bg-gray-800 dark:text-gray-400 dark:hover:bg-gray-700 dark:hover:text-gray-300 dark:peer-checked:text-blue-500\">\n",
        "      <div class=\"block\">\n",
        "        <div class=\"w-full text-lg font-semibold\">Snowflake</div>\n",
        "        <small class=\"w-full\"></small>\n",
        "      </div>\n",
        "    </a>\n",
        "  </li>\n",
        "    \n",
        "  <li>\n",
        "    <a href=\"../bigquery-openai-vanna-vannadb/\" class=\"inline-flex w-full cursor-pointer items-center justify-between rounded-lg border border-gray-200 bg-white p-5 text-gray-500 hover:bg-gray-100 hover:text-gray-600 peer-checked:border-blue-600 peer-checked:text-blue-600 dark:border-gray-700 dark:bg-gray-800 dark:text-gray-400 dark:hover:bg-gray-700 dark:hover:text-gray-300 dark:peer-checked:text-blue-500\">\n",
        "      <div class=\"block\">\n",
        "        <div class=\"w-full text-lg font-semibold\">BigQuery</div>\n",
        "        <small class=\"w-full\"></small>\n",
        "      </div>\n",
        "    </a>\n",
        "  </li>\n",
        "    \n",
        "  <li>\n",
        "    <a href=\"../sqlite-openai-vanna-vannadb/\" class=\"inline-flex w-full cursor-pointer items-center justify-between rounded-lg border border-gray-200 bg-white p-5 text-gray-500 hover:bg-gray-100 hover:text-gray-600 peer-checked:border-blue-600 peer-checked:text-blue-600 dark:border-gray-700 dark:bg-gray-800 dark:text-gray-400 dark:hover:bg-gray-700 dark:hover:text-gray-300 dark:peer-checked:text-blue-500\">\n",
        "      <div class=\"block\">\n",
        "        <div class=\"w-full text-lg font-semibold\">SQLite</div>\n",
        "        <small class=\"w-full\"></small>\n",
        "      </div>\n",
        "    </a>\n",
        "  </li>\n",
        "    \n",
        "  <li>\n",
        "    <a href=\"../oracle-openai-vanna-vannadb/\" class=\"inline-flex w-full cursor-pointer items-center justify-between rounded-lg border border-gray-200 bg-white p-5 text-gray-500 hover:bg-gray-100 hover:text-gray-600 peer-checked:border-blue-600 peer-checked:text-blue-600 dark:border-gray-700 dark:bg-gray-800 dark:text-gray-400 dark:hover:bg-gray-700 dark:hover:text-gray-300 dark:peer-checked:text-blue-500\">\n",
        "      <div class=\"block\">\n",
        "        <div class=\"w-full text-lg font-semibold\">Oracle</div>\n",
        "        <small class=\"w-full\"></small>\n",
        "      </div>\n",
        "    </a>\n",
        "  </li>\n",
        "    \n",
        "  <li>\n",
        "    <a href=\"../other-database-openai-vanna-vannadb/\" class=\"inline-flex w-full cursor-pointer items-center justify-between rounded-lg border border-gray-200 bg-white p-5 text-gray-500 hover:bg-gray-100 hover:text-gray-600 peer-checked:border-blue-600 peer-checked:text-blue-600 dark:border-gray-700 dark:bg-gray-800 dark:text-gray-400 dark:hover:bg-gray-700 dark:hover:text-gray-300 dark:peer-checked:text-blue-500\">\n",
        "      <div class=\"block\">\n",
        "        <div class=\"w-full text-lg font-semibold\">Other Database</div>\n",
        "        <small class=\"w-full\">Use Vanna to generate queries for any SQL database</small>\n",
        "      </div>\n",
        "    </a>\n",
        "  </li>\n",
        "    \n",
        "</ul>\n",
        "    "
      ]
    },
    {
      "id": "38707ef4-8063-5170-873a-45e63c1928a7",
      "cell_type": "code",
      "execution_count": 5,
      "metadata": {
        "id": "38707ef4-8063-5170-873a-45e63c1928a7"
      },
      "outputs": [],
      "source": [
        "vn.connect_to_sqlite('Test.db')"
      ]
    },
    {
      "id": "f06c0e89-83f7-5ad1-8f6e-a64cf5bd8e60",
      "cell_type": "markdown",
      "metadata": {
        "id": "f06c0e89-83f7-5ad1-8f6e-a64cf5bd8e60"
      },
      "source": [
        "## Training\n",
        "You only need to train once. Do not train again unless you want to add more training data."
      ]
    },
    {
      "id": "5d321d01-d66f-5c5e-a3f3-e2d3d4330344",
      "cell_type": "code",
      "execution_count": 9,
      "metadata": {
        "id": "5d321d01-d66f-5c5e-a3f3-e2d3d4330344",
        "outputId": "1fae658a-947f-4bde-e597-c98293d184b7",
        "colab": {
          "base_uri": "https://localhost:8080/"
        }
      },
      "outputs": [
        {
          "output_type": "stream",
          "name": "stdout",
          "text": [
            "    cid             name     type  notnull dflt_value  pk\n",
            "0     0               ID  INTEGER        0       None   0\n",
            "1     1           Gender     TEXT        0       None   0\n",
            "2     2     Ever_Married     TEXT        0       None   0\n",
            "3     3              Age  INTEGER        0       None   0\n",
            "4     4        Graduated     TEXT        0       None   0\n",
            "5     5       Profession     TEXT        0       None   0\n",
            "6     6  Work_Experience     REAL        0       None   0\n",
            "7     7   Spending_Score     TEXT        0       None   0\n",
            "8     8      Family_Size     REAL        0       None   0\n",
            "9     9            Var_1     TEXT        0       None   0\n",
            "10   10     Segmentation     TEXT        0       None   0\n",
            "Adding ddl: CREATE TABLE \"demographics_table\" (\n",
            "\"ID\" INTEGER,\n",
            "  \"Gender\" TEXT,\n",
            "  \"Ever_Married\" TEXT,\n",
            "  \"Age\" INTEGER,\n",
            "  \"Graduated\" TEXT,\n",
            "  \"Profession\" TEXT,\n",
            "  \"Work_Experience\" REAL,\n",
            "  \"Spending_Score\" TEXT,\n",
            "  \"Family_Size\" REAL,\n",
            "  \"Var_1\" TEXT,\n",
            "  \"Segmentation\" TEXT\n",
            ")\n"
          ]
        }
      ],
      "source": [
        "df_ddl = vn.run_sql(\"SELECT type, sql FROM sqlite_master WHERE sql is not null\")\n",
        "\n",
        "for ddl in df_ddl['sql'].to_list():\n",
        "  vn.train(ddl=ddl)\n",
        "\n"
      ]
    },
    {
      "id": "7c421f88-42ea-567c-8581-3dcac96c36a3",
      "cell_type": "code",
      "execution_count": null,
      "metadata": {
        "id": "7c421f88-42ea-567c-8581-3dcac96c36a3"
      },
      "outputs": [],
      "source": [
        "\n",
        "# The following are methods for adding training data. Make sure you modify the examples to match your database.\n",
        "\n",
        "# DDL statements are powerful because they specify table names, colume names, types, and potentially relationships\n",
        "vn.train(ddl=\"\"\"\n",
        "    CREATE TABLE IF NOT EXISTS my-table (\n",
        "        id INT PRIMARY KEY,\n",
        "        name VARCHAR(100),\n",
        "        age INT\n",
        "    )\n",
        "\"\"\")\n",
        "\n",
        "# Sometimes you may want to add documentation about your business terminology or definitions.\n",
        "vn.train(documentation=\"Our business defines OTIF score as the percentage of orders that are delivered on time and in full\")\n",
        "\n",
        "# You can also add SQL queries to your training data. This is useful if you have some queries already laying around. You can just copy and paste those from your editor to begin generating new SQL.\n",
        "vn.train(sql=\"SELECT * FROM my-table WHERE name = 'John Doe'\")\n"
      ]
    },
    {
      "id": "59fcb3b1-4434-583d-82be-ed8e9b04d699",
      "cell_type": "code",
      "execution_count": null,
      "metadata": {
        "id": "59fcb3b1-4434-583d-82be-ed8e9b04d699"
      },
      "outputs": [],
      "source": [
        "# At any time you can inspect what training data the package is able to reference\n",
        "training_data = vn.get_training_data()\n",
        "training_data"
      ]
    },
    {
      "id": "6cf17ab9-dc48-58af-8d75-4e5590a01c88",
      "cell_type": "code",
      "execution_count": null,
      "metadata": {
        "id": "6cf17ab9-dc48-58af-8d75-4e5590a01c88"
      },
      "outputs": [],
      "source": [
        "# You can remove training data if there's obsolete/incorrect information.\n",
        "vn.remove_training_data(id='1-ddl')\n"
      ]
    },
    {
      "id": "bf2fc121-a3ab-5a2e-95b0-383271e82d5f",
      "cell_type": "markdown",
      "metadata": {
        "id": "bf2fc121-a3ab-5a2e-95b0-383271e82d5f"
      },
      "source": [
        "## Asking the AI\n",
        "Whenever you ask a new question, it will find the 10 most relevant pieces of training data and use it as part of the LLM prompt to generate the SQL."
      ]
    },
    {
      "id": "edb6679e-a102-5efc-b890-81babca8f500",
      "cell_type": "code",
      "execution_count": null,
      "metadata": {
        "id": "edb6679e-a102-5efc-b890-81babca8f500"
      },
      "outputs": [],
      "source": [
        "vn.ask(question=...)"
      ]
    },
    {
      "id": "8c49dd68-3bc6-5098-93f1-2d4d8617badb",
      "cell_type": "markdown",
      "metadata": {
        "id": "8c49dd68-3bc6-5098-93f1-2d4d8617badb"
      },
      "source": [
        "## Launch the User Interface\n",
        "![vanna-flask](https://vanna.ai/blog/img/vanna-flask.gif)"
      ]
    },
    {
      "id": "b87d140b-ef56-5795-b489-46bb11d01459",
      "cell_type": "code",
      "execution_count": null,
      "metadata": {
        "id": "b87d140b-ef56-5795-b489-46bb11d01459"
      },
      "outputs": [],
      "source": [
        "from vanna.flask import VannaFlaskApp\n",
        "app = VannaFlaskApp(vn)\n",
        "app.run()"
      ]
    },
    {
      "id": "29793859-c3c8-50da-994a-c8f6348d6730",
      "cell_type": "markdown",
      "metadata": {
        "id": "29793859-c3c8-50da-994a-c8f6348d6730"
      },
      "source": [
        "## Next Steps\n",
        "Using Vanna via Jupyter notebooks is great for getting started but check out additional customizable interfaces like the\n",
        "- [Streamlit app](https://github.com/vanna-ai/vanna-streamlit)\n",
        "- [Flask app](https://github.com/vanna-ai/vanna-flask)\n",
        "- [Slackbot](https://github.com/vanna-ai/vanna-slack)\n"
      ]
    }
  ],
  "metadata": {
    "kernelspec": {
      "display_name": "Python 3",
      "language": "python",
      "name": "python3"
    },
    "language_info": {
      "codemirror_mode": {
        "name": "ipython",
        "version": 3
      },
      "file_extension": ".py",
      "mimetype": "text/x-python",
      "name": "python",
      "nbconvert_exporter": "python",
      "pygments_lexer": "ipython3",
      "version": "3.8.5"
    },
    "colab": {
      "provenance": []
    }
  },
  "nbformat": 4,
  "nbformat_minor": 5
}